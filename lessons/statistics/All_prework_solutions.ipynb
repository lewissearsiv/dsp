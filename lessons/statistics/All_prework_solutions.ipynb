{
 "cells": [
  {
   "cell_type": "code",
   "execution_count": 3,
   "metadata": {},
   "outputs": [],
   "source": [
    "#These are solutions to selected problems from Downey's ThinkStats2 textbook\n",
    "#Just a standard preamble\n",
    "import numpy as np\n",
    "import pandas as pd\n",
    "import math\n",
    "import nsfg\n",
    "import first\n",
    "import thinkplot\n",
    "import thinkstats2"
   ]
  },
  {
   "cell_type": "markdown",
   "metadata": {},
   "source": [
    "*******"
   ]
  },
  {
   "cell_type": "markdown",
   "metadata": {},
   "source": [
    "**Exercise 2.4** Using the variable *totalwgt_lb*, investigate whether first babies are lighter or heavier than others. Compute Cohen’s d to quantify the difference between the groups. How does it compare to the difference in pregnancy length?"
   ]
  },
  {
   "cell_type": "code",
   "execution_count": 26,
   "metadata": {},
   "outputs": [
    {
     "name": "stdout",
     "output_type": "stream",
     "text": [
      "1.9961789525678455\n"
     ]
    },
    {
     "data": {
      "text/plain": [
       "-0.088672927072602"
      ]
     },
     "execution_count": 26,
     "metadata": {},
     "output_type": "execute_result"
    }
   ],
   "source": [
    "#Chapter 2, Exercise 4\n",
    "#Effect size of Cohen's 'D'\n",
    "#--------------------------------\n",
    "\n",
    "def ReadFemPreg(dct_file='2002FemPreg.dct', dat_file='2002FemPreg.dat.gz'):\n",
    "    dct = thinkstats2.ReadStataDct(dct_file)\n",
    "    df = dct.ReadFixedWidth(dat_file, compression='gzip') \n",
    "    CleanFemPreg(df)\n",
    "    return df\n",
    "\n",
    "#Cohen's D statistic: compares the difference between groups to the variability within groups.\n",
    "def CohenEffectSize(group1, group2): \n",
    "    diff = group1.mean() - group2.mean()\n",
    "    var1 = group1.var()\n",
    "    var2 = group2.var()\n",
    "    n1, n2 = len(group1), len(group2)\n",
    "    pooled_var = (n1 * var1 + n2 * var2) / (n1 + n2) \n",
    "    d = diff / math.sqrt(pooled_var)\n",
    "    return d\n",
    "\n",
    "#Take the data and extract only live births\n",
    "preg = nsfg.ReadFemPreg()\n",
    "live = preg[preg.outcome == 1]\n",
    "\n",
    "#Create two groups of first borns and others \n",
    "firsts = live[live.birthord == 1]\n",
    "others = live[live.birthord != 1]\n",
    "\n",
    "#Just to compare mean values straight up in ounces:\n",
    "print(math.fabs(firsts.totalwgt_lb.mean()-others.totalwgt_lb.mean()) *16)\n",
    "\n",
    "\n",
    "#Calculate the Cohen D statistic:\n",
    "CohenEffectSize(firsts.totalwgt_lb,others.totalwgt_lb)"
   ]
  },
  {
   "cell_type": "markdown",
   "metadata": {},
   "source": [
    "**Exercise 2.4 Analysis:** While the mean weight of first births are slightly lower by about 2 ounces, it appears that this is not a statistically significant result given the Cohen statistic. We have quantified that the difference in means is below 0.1 standard deviations apart. This puts the significance under the category of \"small\" indicated by Cohen's guide. It is however, slightly more significant than the difference in pregnancy length calculated in the textbook to be 0.029."
   ]
  },
  {
   "cell_type": "markdown",
   "metadata": {},
   "source": [
    "***"
   ]
  },
  {
   "cell_type": "markdown",
   "metadata": {},
   "source": [
    "**Exercise 3.1** Something like the class size paradox appears if you survey children and ask how many children are in their family. Families with many children are more likely to appear in your sample, and families with no children have no chance to be in the sample.\n",
    "\n",
    "Use the NSFG respondent variable *numkdhh* to construct the actual distribution for the number of children under 18 in the household.\n",
    "\n",
    "Now compute the biased distribution we would see if we surveyed the children and asked them how many children under 18 (including themselves) are in their household.\n",
    "\n",
    "Plot the actual and biased distributions, and compute their means. As a starting place, you can use chap03ex.ipynb."
   ]
  },
  {
   "cell_type": "code",
   "execution_count": 12,
   "metadata": {},
   "outputs": [
    {
     "data": {
      "image/png": "[encoded data removed]",
      "text/plain": [
       "<Figure size 432x288 with 1 Axes>"
      ]
     },
     "metadata": {
      "needs_background": "light"
     },
     "output_type": "display_data"
    }
   ],
   "source": [
    "#Chapter 3, Exercise 1\n",
    "#Actual vs. Biased\n",
    "#--------------------------------\n",
    "\n",
    "#Actual Distribution\n",
    "\n",
    "resp = nsfg.ReadFemResp()\n",
    "pmf = thinkstats2.Pmf(resp.numkdhh)\n",
    "thinkplot.Pmf(pmf)\n",
    "thinkplot.Config(xlabel='Number of children', ylabel='PMF')"
   ]
  },
  {
   "cell_type": "code",
   "execution_count": 14,
   "metadata": {},
   "outputs": [
    {
     "data": {
      "image/png": "[encoded data removed]",
      "text/plain": [
       "<Figure size 432x288 with 1 Axes>"
      ]
     },
     "metadata": {
      "needs_background": "light"
     },
     "output_type": "display_data"
    }
   ],
   "source": [
    "#Biased Distribution \n",
    "\n",
    "#Function to quantify bias\n",
    "def BiasPmf(pmf, label):\n",
    "    new_pmf = pmf.Copy(label=label)\n",
    "    for x, p in pmf.Items(): \n",
    "        new_pmf.Mult(x, x)\n",
    "        new_pmf.Normalize() \n",
    "    return new_pmf\n",
    "\n",
    "biased = BiasPmf(pmf, label='biased')\n",
    "thinkplot.PrePlot(2)\n",
    "thinkplot.Pmfs([pmf, biased])\n",
    "thinkplot.Config(xlabel='Number of children', ylabel='PMF')"
   ]
  },
  {
   "cell_type": "code",
   "execution_count": 19,
   "metadata": {},
   "outputs": [
    {
     "name": "stdout",
     "output_type": "stream",
     "text": [
      "1.024205155043831\n",
      "2.4036791006642817\n"
     ]
    }
   ],
   "source": [
    "#Comparing Means:\n",
    "print(pmf.Mean())\n",
    "print(biased.Mean())"
   ]
  },
  {
   "cell_type": "markdown",
   "metadata": {},
   "source": [
    "**Exercise 3.1 Analysis:** As we anticipated, our probability mass functions and the means of the two means are significantly different. The bias skews the number of children heavily when only accounting for what the different children observe. When that number is multiplied by zero (the number of children observing), a large portion of the actual distribution is unaccounted for which explains the extreme bias. "
   ]
  },
  {
   "cell_type": "markdown",
   "metadata": {},
   "source": [
    "***"
   ]
  },
  {
   "cell_type": "markdown",
   "metadata": {},
   "source": [
    "**Exercise 4.2** The numbers generated by random.random are supposed to be uniform between 0 and 1; that is, every value in the range should have the same probability.\n",
    "\n",
    "Generate 1000 numbers from random.random and plot their PMF and CDF. Is the distribution uniform?"
   ]
  },
  {
   "cell_type": "code",
   "execution_count": null,
   "metadata": {},
   "outputs": [],
   "source": [
    "#Chapter 4, Exercise 2\n",
    "#Random Distribution\n",
    "#--------------------------------"
   ]
  },
  {
   "cell_type": "code",
   "execution_count": 4,
   "metadata": {},
   "outputs": [],
   "source": [
    "dist = np.random.random(1000)"
   ]
  },
  {
   "cell_type": "code",
   "execution_count": 10,
   "metadata": {},
   "outputs": [
    {
     "data": {
      "text/plain": [
       "{'xscale': 'linear', 'yscale': 'linear'}"
      ]
     },
     "execution_count": 10,
     "metadata": {},
     "output_type": "execute_result"
    },
    {
     "data": {
      "image/png": "[encoded data removed]",
      "text/plain": [
       "<Figure size 432x288 with 1 Axes>"
      ]
     },
     "metadata": {
      "needs_background": "light"
     },
     "output_type": "display_data"
    }
   ],
   "source": [
    "pmf = thinkstats2.Pmf(dist)\n",
    "cdf = thinkstats2.Cdf(dist)\n",
    "thinkplot.pmf(pmf)\n",
    "thinkplot.cdf(cdf)"
   ]
  },
  {
   "cell_type": "markdown",
   "metadata": {},
   "source": [
    "**Exercise 4.2 Analysis:** It would appear that the distribution is in fact uniform. Looking at the pmf, it appears that almost every data point is unique and clustered, making it hard to tell. Then, we need to examine the cdf to confirm a straight line representing a uniform distribution. "
   ]
  },
  {
   "cell_type": "markdown",
   "metadata": {},
   "source": [
    "***"
   ]
  },
  {
   "cell_type": "markdown",
   "metadata": {},
   "source": [
    "**Exercise 5.1:** In the BRFSS (see Section 5.4), the distribution of heights is roughly normal with parameters μ = 178 cm and σ = 7.7 cm for men, and μ = 163 cm and σ = 7.3 cm for women.\n",
    "\n",
    "In order to join Blue Man Group, you have to be male between 5’10” and 6’1” (see http://bluemancasting.com). What percentage of the U.S. male population is in this range? Hint: use scipy.stats.norm.cdf."
   ]
  },
  {
   "cell_type": "code",
   "execution_count": 5,
   "metadata": {},
   "outputs": [
    {
     "data": {
      "text/plain": [
       "0.3427468376314737"
      ]
     },
     "execution_count": 5,
     "metadata": {},
     "output_type": "execute_result"
    }
   ],
   "source": [
    "#Chapter 5, Exercise 1\n",
    "#Normal Distribution of Blue Men\n",
    "#--------------------------------\n",
    "import scipy.stats\n",
    "lower = scipy.stats.norm.cdf(177.8, loc = 178, scale = 7.7)\n",
    "upper = scipy.stats.norm.cdf(185.42, loc = 178, scale = 7.7)\n",
    "upper-lower"
   ]
  },
  {
   "cell_type": "markdown",
   "metadata": {},
   "source": [
    "**Exercise 5.1 Analysis:** The percentage of the population elegible for the Blue Man Group is 34.27%. We calculate this by the percentage of the population under 6'1'' minus the percentage of the population shorter than 5'10''. This should be easy to verify because 5'10'' is about the mean and 6'1'' is about one standard deviation above the mean. From the 64-95-99.7 rule, an eye-balled guess would be about 32%. "
   ]
  },
  {
   "cell_type": "markdown",
   "metadata": {},
   "source": [
    "***"
   ]
  },
  {
   "cell_type": "markdown",
   "metadata": {},
   "source": [
    "**Question 5: Bayesian (Elvis Presley Twin)**\n",
    "Bayes' Theorem is an important tool in understanding what we really know, given evidence of other information we have, in a quantitative way. It helps incorporate conditional probabilities into our conclusions. Elvis Presley had a twin brother who died at birth. What is the probability that Elvis was an identical twin? Assume we observe the following probabilities in the population: fraternal twin is 1/125 and identical twin is 1/300."
   ]
  },
  {
   "cell_type": "code",
   "execution_count": 9,
   "metadata": {},
   "outputs": [],
   "source": [
    "prob_frat = 1/125\n",
    "prob_iden = 1/300\n",
    "\n",
    "#Now we consider just boy-boy pairs\n",
    "prob_iden_BB = prob_iden * 1/2\n",
    "prob_frat_BB = 1/125 * 1/4"
   ]
  },
  {
   "cell_type": "code",
   "execution_count": 11,
   "metadata": {},
   "outputs": [
    {
     "data": {
      "text/plain": [
       "0.45454545454545453"
      ]
     },
     "execution_count": 11,
     "metadata": {},
     "output_type": "execute_result"
    }
   ],
   "source": [
    "#We want the conditional probability that elvis was an identical twin, GIVEN that his twin was a boy. \n",
    "prob_iden_BB/(prob_frat_BB+prob_iden_BB)"
   ]
  },
  {
   "cell_type": "markdown",
   "metadata": {},
   "source": [
    "**Question 5 Analysis:** So the probability that elvis was an identical twin is about 45%. The key to understanding this problem is the conditions that you are given his twin was a boy. "
   ]
  }
 ],
 "metadata": {
  "kernelspec": {
   "display_name": "Python 3",
   "language": "python",
   "name": "python3"
  },
  "language_info": {
   "codemirror_mode": {
    "name": "ipython",
    "version": 3
   },
   "file_extension": ".py",
   "mimetype": "text/x-python",
   "name": "python",
   "nbconvert_exporter": "python",
   "pygments_lexer": "ipython3",
   "version": "3.7.6"
  }
 },
 "nbformat": 4,
 "nbformat_minor": 4
}
